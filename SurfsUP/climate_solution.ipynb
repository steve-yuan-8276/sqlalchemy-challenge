{
 "cells": [
  {
   "metadata": {},
   "cell_type": "markdown",
   "source": "# Climate Solution Notebook",
   "id": "b8264b68007d9aab"
  },
  {
   "cell_type": "code",
   "id": "initial_id",
   "metadata": {
    "collapsed": true,
    "ExecuteTime": {
     "end_time": "2024-07-17T19:53:46.521883Z",
     "start_time": "2024-07-17T19:53:46.518274Z"
    }
   },
   "source": [
    "# Denpendencies\n",
    "from matplotlib import style\n",
    "style.use('fivethirtyeight')\n",
    "import matplotlib.pyplot as plt\n",
    "import seaborn as sns\n",
    "import numpy as np\n",
    "import pandas as pd\n",
    "from datetime import datetime as dt\n",
    "\n",
    "# ignore version warning\n",
    "from warnings import filterwarnings\n",
    "filterwarnings('ignore')"
   ],
   "outputs": [],
   "execution_count": 108
  },
  {
   "metadata": {},
   "cell_type": "markdown",
   "source": "## Reflect Tables into SQLAlchemy ORM",
   "id": "213feaf24095c7c9"
  },
  {
   "metadata": {
    "ExecuteTime": {
     "end_time": "2024-07-17T16:21:06.157513Z",
     "start_time": "2024-07-17T16:21:06.154390Z"
    }
   },
   "cell_type": "code",
   "source": [
    "# Python SQL toolkit and Object Relational Mapper\n",
    "import sqlalchemy\n",
    "from sqlalchemy.ext.automap import automap_base\n",
    "from sqlalchemy.orm import Session\n",
    "from sqlalchemy import create_engine, func, and_, or_"
   ],
   "id": "304e1d8a76de4dda",
   "outputs": [],
   "execution_count": 10
  },
  {
   "metadata": {
    "ExecuteTime": {
     "end_time": "2024-07-17T16:21:09.171329Z",
     "start_time": "2024-07-17T16:21:09.167864Z"
    }
   },
   "cell_type": "code",
   "source": [
    "# create engine to hawaii.sqlite\n",
    "engine = create_engine(\"sqlite:///../Resources/hawaii.sqlite\")"
   ],
   "id": "ae8de36222e6143d",
   "outputs": [],
   "execution_count": 11
  },
  {
   "metadata": {
    "ExecuteTime": {
     "end_time": "2024-07-17T16:21:11.969808Z",
     "start_time": "2024-07-17T16:21:11.958928Z"
    }
   },
   "cell_type": "code",
   "source": [
    "# reflect an existing database into a new model\n",
    "Base = automap_base()\n",
    "# reflect the tables\n",
    "Base.prepare(engine, reflect=True)"
   ],
   "id": "d20a02d51922b3f9",
   "outputs": [],
   "execution_count": 12
  },
  {
   "metadata": {
    "ExecuteTime": {
     "end_time": "2024-07-17T16:21:22.864053Z",
     "start_time": "2024-07-17T16:21:22.861380Z"
    }
   },
   "cell_type": "code",
   "source": [
    "# View all of the classes that automap found\n",
    "print(Base.classes.keys())"
   ],
   "id": "ca48944580a23799",
   "outputs": [
    {
     "name": "stdout",
     "output_type": "stream",
     "text": [
      "['measurement', 'station']\n"
     ]
    }
   ],
   "execution_count": 13
  },
  {
   "metadata": {
    "ExecuteTime": {
     "end_time": "2024-07-17T16:21:31.482503Z",
     "start_time": "2024-07-17T16:21:31.479660Z"
    }
   },
   "cell_type": "code",
   "source": [
    "# Save references to each table\n",
    "Measurements = Base.classes.measurement\n",
    "Stations = Base.classes.station"
   ],
   "id": "34a2b965977f6ad5",
   "outputs": [],
   "execution_count": 14
  },
  {
   "metadata": {
    "ExecuteTime": {
     "end_time": "2024-07-17T16:21:38.258708Z",
     "start_time": "2024-07-17T16:21:38.256001Z"
    }
   },
   "cell_type": "code",
   "source": [
    "# Create our session (link) from Python to the DB\n",
    "session = Session(engine)"
   ],
   "id": "c494dc5ae1f0dd5b",
   "outputs": [],
   "execution_count": 15
  },
  {
   "metadata": {},
   "cell_type": "markdown",
   "source": "## Exploratory Precipitation Analysis",
   "id": "7167bcf487f680df"
  },
  {
   "metadata": {
    "ExecuteTime": {
     "end_time": "2024-07-17T21:29:41.342679Z",
     "start_time": "2024-07-17T21:29:41.336885Z"
    }
   },
   "cell_type": "code",
   "source": [
    "# Find the most recent date in the data set.\n",
    "most_recent_date = (\n",
    "    session.query(Measurements.date)\n",
    "    # .order_by(Measurements.date)\n",
    "    .order_by(Measurements.date.desc())\n",
    "    .limit(1)\n",
    "    # Use the `.scalar()` method to execute the query and get a single result. This will return a single value from the first column of the query.\n",
    "    .scalar()\n",
    ")\n",
    "print(most_recent_date)"
   ],
   "id": "d827ca4e298b722c",
   "outputs": [
    {
     "name": "stdout",
     "output_type": "stream",
     "text": [
      "2017-08-23\n"
     ]
    }
   ],
   "execution_count": 115
  },
  {
   "metadata": {
    "ExecuteTime": {
     "end_time": "2024-07-17T17:10:42.425764Z",
     "start_time": "2024-07-17T17:10:42.266542Z"
    }
   },
   "cell_type": "code",
   "source": [
    "# Design a query to retrieve the last 12 months of precipitation data and plot the results. \n",
    "# Calculate the date one year from the last date in data set.\n",
    "previous_date = (\n",
    "    (most_recent_date - dt.timedelta(days=365))   # Calculate the date\n",
    "    .strftime('%Y-%m-%d')  # Format\n",
    ")\n",
    "# previous_date\n",
    "# Perform a query to retrieve the data and precipitation scores\n",
    "prcp_data = (\n",
    "    session.query(Measurements.date, Measurements.prcp)\n",
    "    .filter(and_(Measurements.date >= previous_date,\n",
    "                 Measurements.date <= most_recent_date))\n",
    "    .order_by(Measurements.date)\n",
    "    .all()\n",
    ")\n",
    "## Display and review\n",
    "# print(prcp_data)\n",
    "# Save the query results as a Pandas DataFrame. Explicitly set the column names\n",
    "prcp_df = (\n",
    "    pd.DataFrame(prcp_data, columns=['date', 'precipitation'])\n",
    "    .sort_values(by='date')  # Sort the dataframe by date\n",
    "    .set_index('date')\n",
    ")\n",
    "# Display and review\n",
    "# prcp_df\n",
    "\n",
    "# Use Pandas Plotting with Matplotlib to plot the data\n",
    "# plt.figure(figsize=(12, 8))\n",
    "# ax = prcp_df.plot(kind='bar', y='precipitation', legend=False, width=0.8)\n",
    "# \n",
    "# # Set the number of x-ticks to be displayed\n",
    "# ax.set_xticks(ax.get_xticks()[::12])  # Display every 12th label\n",
    "# ax.set_xticklabels(prcp_df.index[::12], rotation=90)\n",
    "# \n",
    "# # Title and labels\n",
    "# plt.xlabel('Date')\n",
    "# plt.ylabel('Inches')\n",
    "# plt.legend(loc='upper right')\n",
    "# plt.tight_layout()\n",
    "# plt.show()\n",
    "\n",
    "plt.figure(figsize=(12, 10))\n",
    "ax = prcp_df.plot(y='precipitation', rot=45)\n",
    "\n",
    "# Set y-axis label with specific position\n",
    "ax.set_ylabel('Inches', labelpad=20)\n",
    "ax.yaxis.set_label_coords(-0.1, 0.5)\n",
    "\n",
    "plt.xlabel('Date')\n",
    "plt.title('Last 12 Months of Precipitation')\n",
    "plt.legend(['Precipitation'], loc='best')\n",
    "plt.show()"
   ],
   "id": "f2ea0037bde217c6",
   "outputs": [
    {
     "data": {
      "text/plain": [
       "<Figure size 1200x1000 with 0 Axes>"
      ]
     },
     "metadata": {},
     "output_type": "display_data"
    },
    {
     "data": {
      "text/plain": [
       "<Figure size 640x480 with 1 Axes>"
      ],
      "image/png": "[encoded data removed]"
     },
     "metadata": {},
     "output_type": "display_data"
    }
   ],
   "execution_count": 59
  },
  {
   "metadata": {
    "ExecuteTime": {
     "end_time": "2024-07-17T17:10:51.953551Z",
     "start_time": "2024-07-17T17:10:51.944214Z"
    }
   },
   "cell_type": "code",
   "source": [
    "# Use Pandas to calculate the summary statistics for the precipitation data\n",
    "prcp_df.describe()"
   ],
   "id": "857f49650252d75e",
   "outputs": [
    {
     "data": {
      "text/plain": [
       "       precipitation\n",
       "count    2021.000000\n",
       "mean        0.177279\n",
       "std         0.461190\n",
       "min         0.000000\n",
       "25%         0.000000\n",
       "50%         0.020000\n",
       "75%         0.130000\n",
       "max         6.700000"
      ],
      "text/html": [
       "<div>\n",
       "<style scoped>\n",
       "    .dataframe tbody tr th:only-of-type {\n",
       "        vertical-align: middle;\n",
       "    }\n",
       "\n",
       "    .dataframe tbody tr th {\n",
       "        vertical-align: top;\n",
       "    }\n",
       "\n",
       "    .dataframe thead th {\n",
       "        text-align: right;\n",
       "    }\n",
       "</style>\n",
       "<table border=\"1\" class=\"dataframe\">\n",
       "  <thead>\n",
       "    <tr style=\"text-align: right;\">\n",
       "      <th></th>\n",
       "      <th>precipitation</th>\n",
       "    </tr>\n",
       "  </thead>\n",
       "  <tbody>\n",
       "    <tr>\n",
       "      <th>count</th>\n",
       "      <td>2021.000000</td>\n",
       "    </tr>\n",
       "    <tr>\n",
       "      <th>mean</th>\n",
       "      <td>0.177279</td>\n",
       "    </tr>\n",
       "    <tr>\n",
       "      <th>std</th>\n",
       "      <td>0.461190</td>\n",
       "    </tr>\n",
       "    <tr>\n",
       "      <th>min</th>\n",
       "      <td>0.000000</td>\n",
       "    </tr>\n",
       "    <tr>\n",
       "      <th>25%</th>\n",
       "      <td>0.000000</td>\n",
       "    </tr>\n",
       "    <tr>\n",
       "      <th>50%</th>\n",
       "      <td>0.020000</td>\n",
       "    </tr>\n",
       "    <tr>\n",
       "      <th>75%</th>\n",
       "      <td>0.130000</td>\n",
       "    </tr>\n",
       "    <tr>\n",
       "      <th>max</th>\n",
       "      <td>6.700000</td>\n",
       "    </tr>\n",
       "  </tbody>\n",
       "</table>\n",
       "</div>"
      ]
     },
     "execution_count": 60,
     "metadata": {},
     "output_type": "execute_result"
    }
   ],
   "execution_count": 60
  },
  {
   "metadata": {},
   "cell_type": "markdown",
   "source": "## Exploratory Station Analysis",
   "id": "53cf7f91d8aa8920"
  },
  {
   "metadata": {
    "ExecuteTime": {
     "end_time": "2024-07-17T17:13:12.398850Z",
     "start_time": "2024-07-17T17:13:12.391111Z"
    }
   },
   "cell_type": "code",
   "source": [
    "# Design a query to calculate the total number of stations in the dataset\n",
    "cnt_stations = (\n",
    "    session.query(Measurements.station)\n",
    "    .distinct()\n",
    "    .count()\n",
    ")\n",
    "\n",
    "print(cnt_stations)"
   ],
   "id": "6652579c3bc77333",
   "outputs": [
    {
     "name": "stdout",
     "output_type": "stream",
     "text": [
      "9\n"
     ]
    }
   ],
   "execution_count": 62
  },
  {
   "metadata": {
    "ExecuteTime": {
     "end_time": "2024-07-17T17:23:11.414486Z",
     "start_time": "2024-07-17T17:23:11.403737Z"
    }
   },
   "cell_type": "code",
   "source": [
    "# Design a query to find the most active stations (i.e. which stations have the most rows?)\n",
    "# List the stations and their counts in descending order.\n",
    "cnt_active_station = (\n",
    "    session.query(Measurements.station, func.count(Measurements.station))\n",
    "    .group_by(Measurements.station)\n",
    "    .order_by(func.count(Measurements.station).desc())\n",
    "    .all()\n",
    ")\n",
    "cnt_active_station   # List the stations and observation counts in descending order"
   ],
   "id": "5857bbf734756b40",
   "outputs": [
    {
     "data": {
      "text/plain": [
       "[('USC00519281', 2772),\n",
       " ('USC00519397', 2724),\n",
       " ('USC00513117', 2709),\n",
       " ('USC00519523', 2669),\n",
       " ('USC00516128', 2612),\n",
       " ('USC00514830', 2202),\n",
       " ('USC00511918', 1979),\n",
       " ('USC00517948', 1372),\n",
       " ('USC00518838', 511)]"
      ]
     },
     "execution_count": 65,
     "metadata": {},
     "output_type": "execute_result"
    }
   ],
   "execution_count": 65
  },
  {
   "metadata": {
    "ExecuteTime": {
     "end_time": "2024-07-17T17:29:48.853556Z",
     "start_time": "2024-07-17T17:29:48.844049Z"
    }
   },
   "cell_type": "code",
   "source": [
    "# Using the most active station id from the previous query, calculate the lowest, highest, and average temperature.\n",
    "# Find the mos most_active_station\n",
    "most_active_station = cnt_active_station[0][0]\n",
    "\n",
    "selected_station_temp = (\n",
    "    session.query(\n",
    "        func.min(Measurements.tobs).label('Lowest Temperature'),\n",
    "        func.max(Measurements.tobs).label('highest temperature'),\n",
    "        func.avg(Measurements.tobs).label('Average Temperature')\n",
    "    )\n",
    "    .filter(Measurements.station == most_active_station)\n",
    "    .all()\n",
    ")\n",
    "\n",
    "selected_station_temp"
   ],
   "id": "d671f95891e51e25",
   "outputs": [
    {
     "data": {
      "text/plain": [
       "[(54.0, 85.0, 71.66378066378067)]"
      ]
     },
     "execution_count": 68,
     "metadata": {},
     "output_type": "execute_result"
    }
   ],
   "execution_count": 68
  },
  {
   "metadata": {
    "ExecuteTime": {
     "end_time": "2024-07-17T19:55:44.735167Z",
     "start_time": "2024-07-17T19:55:44.731279Z"
    }
   },
   "cell_type": "code",
   "source": [
    "start = '20160823'\n",
    "end = '20161023'\n",
    "\n",
    "# configure the date format\n",
    "start_date = dt.strptime(start, '%Y%m%d').strftime('%Y-%m-%d')\n",
    "end_date = dt.strptime(end, '%Y%m%d').strftime('%Y-%m-%d')\n",
    "\n",
    "# Print debug information\n",
    "print(f\"Start date: {start_date}\")\n",
    "print(f\"End date: {end_date}\")"
   ],
   "id": "f14ada9043bc4a8d",
   "outputs": [
    {
     "name": "stdout",
     "output_type": "stream",
     "text": [
      "Start date: 2016-08-23\n",
      "End date: 2016-10-23\n"
     ]
    }
   ],
   "execution_count": 111
  },
  {
   "metadata": {
    "ExecuteTime": {
     "end_time": "2024-07-17T19:56:33.612315Z",
     "start_time": "2024-07-17T19:56:33.605061Z"
    }
   },
   "cell_type": "code",
   "source": [
    "# Find the temperature data\n",
    "results = (\n",
    "    session.query(\n",
    "        func.min(Measurements.tobs).label('TMIN'),\n",
    "        func.max(Measurements.tobs).label('TMAX'),\n",
    "        func.avg(Measurements.tobs).label('TAVG')\n",
    "    )\n",
    "    .filter(Measurements.date.between(start_date, end_date))\n",
    "    .all()\n",
    ")\n",
    "\n",
    "# Covert a temp data into a list\n",
    "temp_data = []\n",
    "for min, max, avg in results:\n",
    "    temp_dict = {}\n",
    "    temp_dict['TMIN'] = min\n",
    "    temp_dict['TMAX'] = max\n",
    "    temp_dict['TAVG'] = round(avg, 2)\n",
    "    temp_data.append(temp_dict)\n",
    "    \n",
    "temp_data"
   ],
   "id": "7da745dcd66481e4",
   "outputs": [
    {
     "data": {
      "text/plain": [
       "[{'TMIN': 70.0, 'TMAX': 84.0, 'TAVG': 77.77}]"
      ]
     },
     "execution_count": 113,
     "metadata": {},
     "output_type": "execute_result"
    }
   ],
   "execution_count": 113
  },
  {
   "metadata": {
    "ExecuteTime": {
     "end_time": "2024-07-17T18:08:16.411812Z",
     "start_time": "2024-07-17T18:08:16.236574Z"
    }
   },
   "cell_type": "code",
   "source": [
    "# Using the most active station id\n",
    "# Query the last 12 months of temperature observation data for this station and plot the results as a histogram\n",
    "\n",
    "# Perform a query to retrieve the data and temperature data in last 12 months\n",
    "temp_data = (\n",
    "    session.query(Measurements.tobs)\n",
    "    .filter(and_(\n",
    "        Measurements.station == most_active_station,\n",
    "        Measurements.date.between(previous_date, most_recent_date) \n",
    "    ))\n",
    "    .all()\n",
    ")\n",
    "\n",
    "temp_df = pd.DataFrame(temp_data)\n",
    "\n",
    "# Plot the histogram \n",
    "plt.figure(figsize=(12, 10))\n",
    "temp_df.plot(kind='hist', y='tobs', bins=12, rwidth=1)\n",
    "# sns.histplot(data=temp_df['tobs'], bins=12, kde=False,label='tobs') \n",
    "# Define the x-axis \n",
    "plt.xlim(57, 84)\n",
    "\n",
    "# Title and Labels\n",
    "plt.title('Temperature Distribution')\n",
    "plt.xlabel('Temperature')\n",
    "plt.legend(loc='best')\n",
    "plt.show()\n"
   ],
   "id": "da06b63c92c94537",
   "outputs": [
    {
     "data": {
      "text/plain": [
       "<Figure size 1200x1000 with 0 Axes>"
      ]
     },
     "metadata": {},
     "output_type": "display_data"
    },
    {
     "data": {
      "text/plain": [
       "<Figure size 640x480 with 1 Axes>"
      ],
      "image/png": "[encoded data removed]"
     },
     "metadata": {},
     "output_type": "display_data"
    }
   ],
   "execution_count": 105
  },
  {
   "metadata": {
    "ExecuteTime": {
     "end_time": "2024-07-17T18:08:57.406122Z",
     "start_time": "2024-07-17T18:08:57.403448Z"
    }
   },
   "cell_type": "code",
   "source": [
    "# Close Session\n",
    "session.close()"
   ],
   "id": "a873c81de98f2d11",
   "outputs": [],
   "execution_count": 106
  },
  {
   "metadata": {},
   "cell_type": "code",
   "outputs": [],
   "execution_count": null,
   "source": "",
   "id": "419fdee9ed93da78"
  }
 ],
 "metadata": {
  "kernelspec": {
   "display_name": "Python 3",
   "language": "python",
   "name": "python3"
  },
  "language_info": {
   "codemirror_mode": {
    "name": "ipython",
    "version": 2
   },
   "file_extension": ".py",
   "mimetype": "text/x-python",
   "name": "python",
   "nbconvert_exporter": "python",
   "pygments_lexer": "ipython2",
   "version": "2.7.6"
  }
 },
 "nbformat": 4,
 "nbformat_minor": 5
}
